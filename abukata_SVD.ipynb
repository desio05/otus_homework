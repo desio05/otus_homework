{
 "cells": [
  {
   "cell_type": "code",
   "execution_count": 183,
   "metadata": {},
   "outputs": [],
   "source": [
    "import numpy as np"
   ]
  },
  {
   "cell_type": "markdown",
   "metadata": {},
   "source": [
    "### 1"
   ]
  },
  {
   "cell_type": "code",
   "execution_count": 184,
   "metadata": {},
   "outputs": [
    {
     "data": {
      "text/plain": [
       "(matrix([[-0.85065081, -0.52573111],\n",
       "         [-0.52573111,  0.85065081]]), array([[8.71337969, 0.        ],\n",
       "        [0.        , 3.32821489]]), matrix([[-0.59455781, -0.80405286],\n",
       "         [ 0.80405286, -0.59455781]]))"
      ]
     },
     "execution_count": 184,
     "metadata": {},
     "output_type": "execute_result"
    }
   ],
   "source": [
    "A1 = np.matrix('3 7; 5 2')\n",
    "u1, s1, vt1 = np.linalg.svd(A1)\n",
    "s1 = np.diag(s1)\n",
    "u1, s1, vt1"
   ]
  },
  {
   "cell_type": "code",
   "execution_count": 185,
   "metadata": {},
   "outputs": [
    {
     "data": {
      "text/plain": [
       "((2, 2), (2, 2), (2, 2))"
      ]
     },
     "execution_count": 185,
     "metadata": {},
     "output_type": "execute_result"
    }
   ],
   "source": [
    "u1.shape, s1.shape, vt1.shape"
   ]
  },
  {
   "cell_type": "code",
   "execution_count": 186,
   "metadata": {},
   "outputs": [
    {
     "data": {
      "text/plain": [
       "matrix([[3., 7.],\n",
       "        [5., 2.]])"
      ]
     },
     "execution_count": 186,
     "metadata": {},
     "output_type": "execute_result"
    }
   ],
   "source": [
    "u1*s1*vt1"
   ]
  },
  {
   "cell_type": "code",
   "execution_count": 187,
   "metadata": {},
   "outputs": [
    {
     "data": {
      "text/plain": [
       "True"
      ]
     },
     "execution_count": 187,
     "metadata": {},
     "output_type": "execute_result"
    }
   ],
   "source": [
    "np.allclose(A1, _)"
   ]
  },
  {
   "cell_type": "markdown",
   "metadata": {},
   "source": [
    "### 2"
   ]
  },
  {
   "cell_type": "code",
   "execution_count": 188,
   "metadata": {},
   "outputs": [
    {
     "data": {
      "text/plain": [
       "(matrix([[-0.56667985,  0.82277903,  0.04368772],\n",
       "         [-0.80674247, -0.54329657, -0.23236915],\n",
       "         [-0.16745308, -0.16692366,  0.97164601]]),\n",
       " array([[4.34019342, 0.        , 0.        ],\n",
       "        [0.        , 2.41561763, 0.        ],\n",
       "        [0.        , 0.        , 0.57228713]]),\n",
       " matrix([[-0.37175416, -0.72677875, -0.5775738 ],\n",
       "         [-0.44982001, -0.40322372,  0.79691442],\n",
       "         [-0.81207192,  0.5560605 , -0.17701953]]))"
      ]
     },
     "execution_count": 188,
     "metadata": {},
     "output_type": "execute_result"
    }
   ],
   "source": [
    "A2 = np.matrix('0 1 3; 2 3 1; 0 1 0')\n",
    "u2, s2, vt2 = np.linalg.svd(A2)\n",
    "s2 = np.diag(s2)\n",
    "u2, s2, vt2"
   ]
  },
  {
   "cell_type": "code",
   "execution_count": 189,
   "metadata": {},
   "outputs": [
    {
     "data": {
      "text/plain": [
       "((3, 3), (3, 3), (3, 3))"
      ]
     },
     "execution_count": 189,
     "metadata": {},
     "output_type": "execute_result"
    }
   ],
   "source": [
    "u2.shape, s2.shape, vt2.shape"
   ]
  },
  {
   "cell_type": "code",
   "execution_count": 190,
   "metadata": {},
   "outputs": [
    {
     "data": {
      "text/plain": [
       "matrix([[-2.07793506e-16,  1.00000000e+00,  3.00000000e+00],\n",
       "        [ 2.00000000e+00,  3.00000000e+00,  1.00000000e+00],\n",
       "        [-2.74065170e-17,  1.00000000e+00, -1.43523152e-16]])"
      ]
     },
     "execution_count": 190,
     "metadata": {},
     "output_type": "execute_result"
    }
   ],
   "source": [
    "u2*s2*vt2"
   ]
  },
  {
   "cell_type": "code",
   "execution_count": 191,
   "metadata": {},
   "outputs": [
    {
     "data": {
      "text/plain": [
       "True"
      ]
     },
     "execution_count": 191,
     "metadata": {},
     "output_type": "execute_result"
    }
   ],
   "source": [
    "np.allclose(A2, _)"
   ]
  },
  {
   "cell_type": "markdown",
   "metadata": {},
   "source": [
    "### 3"
   ]
  },
  {
   "cell_type": "code",
   "execution_count": 192,
   "metadata": {},
   "outputs": [
    {
     "data": {
      "text/plain": [
       "(matrix([[-0.75927897,  0.23445293, -0.60706446],\n",
       "         [-0.3639706 , -0.92629427,  0.09749016],\n",
       "         [-0.53946348,  0.29497584,  0.78864974]]),\n",
       " array([[14.94713352,  0.        ,  0.        ,  0.        ,  0.        ],\n",
       "        [ 0.        ,  2.72739944,  0.        ,  0.        ,  0.        ],\n",
       "        [ 0.        ,  0.        ,  1.46440832,  0.        ,  0.        ]]),\n",
       " matrix([[-0.38661298, -0.57300074, -0.58264507, -0.37190679, -0.21073828],\n",
       "         [ 0.41464331,  0.01546935, -0.3019654 ,  0.43683401, -0.73879941],\n",
       "         [-0.39052151, -0.5479222 ,  0.47174175,  0.56256936, -0.09082761],\n",
       "         [-0.43720626,  0.36725326, -0.53062765,  0.5481159 ,  0.30328039],\n",
       "         [ 0.5787443 , -0.48614521, -0.2554127 ,  0.23226293,  0.55635974]]))"
      ]
     },
     "execution_count": 192,
     "metadata": {},
     "output_type": "execute_result"
    }
   ],
   "source": [
    "A3 = np.matrix('5 7 6 4 2; 1 3 4 1 3; 3 4 5 4 1')\n",
    "u3, s3, vt3 = np.linalg.svd(A3)\n",
    "s3_f = np.zeros(A3.shape)\n",
    "s3_f[:A3.shape[0], :A3.shape[0]] = np.diag(s3)\n",
    "s3 = s3_f\n",
    "u3, s3, vt3"
   ]
  },
  {
   "cell_type": "code",
   "execution_count": 193,
   "metadata": {},
   "outputs": [
    {
     "data": {
      "text/plain": [
       "((3, 3), (3, 5), (5, 5))"
      ]
     },
     "execution_count": 193,
     "metadata": {},
     "output_type": "execute_result"
    }
   ],
   "source": [
    "u3.shape, s3.shape, vt3.shape"
   ]
  },
  {
   "cell_type": "code",
   "execution_count": 194,
   "metadata": {},
   "outputs": [
    {
     "data": {
      "text/plain": [
       "matrix([[5., 7., 6., 4., 2.],\n",
       "        [1., 3., 4., 1., 3.],\n",
       "        [3., 4., 5., 4., 1.]])"
      ]
     },
     "execution_count": 194,
     "metadata": {},
     "output_type": "execute_result"
    }
   ],
   "source": [
    "u3*s3*vt3"
   ]
  },
  {
   "cell_type": "code",
   "execution_count": 195,
   "metadata": {},
   "outputs": [
    {
     "data": {
      "text/plain": [
       "True"
      ]
     },
     "execution_count": 195,
     "metadata": {},
     "output_type": "execute_result"
    }
   ],
   "source": [
    "np.allclose(A3, _)"
   ]
  }
 ],
 "metadata": {
  "kernelspec": {
   "display_name": "Python 3",
   "language": "python",
   "name": "python3"
  },
  "language_info": {
   "codemirror_mode": {
    "name": "ipython",
    "version": 3
   },
   "file_extension": ".py",
   "mimetype": "text/x-python",
   "name": "python",
   "nbconvert_exporter": "python",
   "pygments_lexer": "ipython3",
   "version": "3.7.4"
  }
 },
 "nbformat": 4,
 "nbformat_minor": 2
}
